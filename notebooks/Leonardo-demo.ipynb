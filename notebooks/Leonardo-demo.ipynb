{
 "cells": [
  {
   "cell_type": "code",
   "execution_count": null,
   "id": "28f70857-e71d-45be-bb74-5957ad5086e2",
   "metadata": {
    "slideshow": {
     "slide_type": "slide"
    },
    "tags": []
   },
   "outputs": [],
   "source": [
    "# Using DASK on HPC systems such as Leonardo\n",
    "**Recommended youtube:** [Matthew Rocklin](https://www.youtube.com/watch?v=FXsgmwpRExM&t=121s)\n",
    "https://www.youtube.com/watch?v=FXsgmwpRExM&t=121s\n",
    "\n",
    "**B.Chandramouli, A.Emerson**\n",
    "\n",
    "**HPC Dept Cineca**"
   ]
  },
  {
   "cell_type": "code",
   "execution_count": 1,
   "id": "6cbdffb3-f470-4846-84ea-c156a09b5369",
   "metadata": {
    "jupyter": {
     "source_hidden": true
    },
    "tags": []
   },
   "outputs": [
    {
     "data": {
      "text/markdown": [
       "#### Last update 2023-10-11"
      ],
      "text/plain": [
       "<IPython.core.display.Markdown object>"
      ]
     },
     "metadata": {},
     "output_type": "display_data"
    }
   ],
   "source": [
    "from datetime import datetime\n",
    "from IPython.display import display, Markdown\n",
    "\n",
    "todays_date = str(datetime.now().date())\n",
    "\n",
    "display(Markdown(f'#### Last update {todays_date}'))"
   ]
  },
  {
   "cell_type": "markdown",
   "id": "e2711ff7",
   "metadata": {
    "slideshow": {
     "slide_type": "slide"
    }
   },
   "source": [
    "## Introduction to Dask\n",
    " - Dask makes it easy to scale Python libraries like NumPy, pandas, and scikit-learn\n",
    " - Dask can also parallelize any Python code (not described here)\n",
    " - For arrays, dataframes, and other high-level collections, Dask achieves the parallelization by dividing the objects into *chunks* or *partitions*, which can be distributed over multiple CPUs or GPUs.\n",
    " - The collections are then used to create a task graph which can be executed by schedulers on a single machine or a cluster\n",
    "\n",
    "\n"
   ]
  },
  {
   "cell_type": "markdown",
   "id": "aef91dff-483a-427e-8260-03e6561dc0f1",
   "metadata": {
    "slideshow": {
     "slide_type": "subslide"
    },
    "tags": []
   },
   "source": [
    "<img src=\"svg/dask-graph.png\" height=\"1000\" width=\"800\"/>"
   ]
  },
  {
   "cell_type": "markdown",
   "id": "6fb55ca1",
   "metadata": {
    "slideshow": {
     "slide_type": "slide"
    }
   },
   "source": [
    "### Distributing data structures with dask\n",
    "Lets consider the following Python structures: list-type objects, arrays and dataframes:"
   ]
  },
  {
   "cell_type": "markdown",
   "id": "97aab811-c041-4fe6-99ba-6d35fc845800",
   "metadata": {
    "slideshow": {
     "slide_type": "skip"
    },
    "tags": []
   },
   "source": [
    "<img src=\"svg/collect1.png\" width=\"400\" height=\"600\"/>"
   ]
  },
  {
   "cell_type": "markdown",
   "id": "a5baa26b-7fc3-4dc3-903f-2a5df94fc70e",
   "metadata": {
    "slideshow": {
     "slide_type": "fragment"
    },
    "tags": []
   },
   "source": [
    "These structures can be divided among 1 or more *workers* to which are assigned CPU/GPU and some memory. \n",
    "The *scheduler* will manage the creation and communication between the workers, as well as providing statistics\n",
    "on the problem being solved\n"
   ]
  },
  {
   "cell_type": "markdown",
   "id": "fcf18026-acea-4778-9932-951b79864c6c",
   "metadata": {
    "slideshow": {
     "slide_type": "skip"
    },
    "tags": []
   },
   "source": [
    "<img src=\"svg/collect2.png\" width=\"800\" height=\"600\"/>"
   ]
  },
  {
   "cell_type": "markdown",
   "id": "4a2d42d8",
   "metadata": {
    "slideshow": {
     "slide_type": "fragment"
    }
   },
   "source": [
    "----------------\n",
    "\n",
    "> Setting-up a dask sheduler on a single machine (e.g. cloud instance) is relatively straightforward. In this study \n",
    "instead we concentrate on how to implement Dask on an HPC cluster, in particular using GPUs. \n",
    "\n",
    "-----------------"
   ]
  },
  {
   "cell_type": "markdown",
   "id": "b8483c42-231f-47d7-95b0-c8b30a8b79f9",
   "metadata": {},
   "source": [
    "## Dask on HPC (Leonardo)\n",
    "\n",
    "Overview of the ways of interacting with a supercomputing cluster with a scheduler such as SLURM, PBS, etc.\n",
    "\n",
    "\n",
    "<img src=\"svg//dask-hpc-all.png\" height=\"800\" width=\"1000\"/>"
   ]
  },
  {
   "cell_type": "markdown",
   "id": "2f6e7464",
   "metadata": {
    "slideshow": {
     "slide_type": "slide"
    },
    "tags": []
   },
   "source": [
    "-------------------------------------------------------------------------------------------------------------------------\n",
    "## HPC Strategy\n",
    "\n",
    "There are three strategies for using a Dask  on a machine (e.g. Leonardo) with a batch system (e.g. Slurm):\n",
    "    \n",
    "1. Run the Dask sheduler on a login node (or compute node) of Leonardo and submit workers as Slurm jobs (debugging or setup)\n",
    "2. Submit directly a slurm job in which the Dask sheduler and cluster are created (**preferred for single node GPUs**)\n",
    "3. Use Dask-mpi, setting up the dask mpi scheduler in a slurm job with an MPI client (**preferred for CPUs**)\n",
    "    \n",
    "The first is more convenient and can be achieved with ipython or better jupyter-lab with tunneling to show the \n",
    "jupyter client and the dask scheduler on a PC. However, the slurm jobs of the workers may not all start at the same time.\n",
    "\n",
    "The second method is less flexible, you have to decide a priori what resources you need, but you can still use \n",
    "tunneling to monitor the dashboard. On the other hand you would need to do this for very long calculations. **BUT you can only use the resources of one node.**\n",
    "\n",
    "In the third case, you submit a SLURM job with Dask MPI as the scheduler on 1 rank, and the workers on the other ranks. Allows multiple node jobs. **BUT currently you cannot use GPUs with Dask MPI.**\n",
    "\n",
    "In all cases, with appropriate tunnelling, you can monitor the dask dashboard.\n",
    "\n",
    "*NB: Note the use of SLURM Heterogenous job support (HETJOB) to allocate different resources to the scheduler and workers*\n",
    "\n",
    "-------------------------------------------------------------------------------------------------------------------------------"
   ]
  },
  {
   "cell_type": "markdown",
   "id": "dfb50829-9023-40af-ab61-c1b5e73d8b7f",
   "metadata": {
    "slideshow": {
     "slide_type": "slide"
    }
   },
   "source": [
    "## Setup Dask, Rapids, jupyter and tunnelling for Interactive Dask\n",
    "\n",
    "**_Steps_** \n",
    "1. Install Rapids and DASK in an environment (conda or pip) on Leonardo\n",
    "2. Install jupyter-lab on Leonardo, and install Dask+Rapids env as a jupyter kernel (instructions [here](https://medium.com/@nrk25693/how-to-add-your-conda-environment-to-your-jupyter-notebook-in-just-4-steps-abeab8b8d084))\n",
    "3. Activate jupyter in server mode\n",
    "4. Open a shell on local client and enable tunnelling for bother jupyter and dask"
   ]
  },
  {
   "cell_type": "markdown",
   "id": "d71983a5-3aeb-460f-8e6a-7347c0971149",
   "metadata": {
    "slideshow": {
     "slide_type": "subslide"
    }
   },
   "source": [
    "### On Leonardo\n",
    "Login, activate Rapids+Dask environment and launch server-side jupyter\n",
    "```bash\n",
    "ssh login.leonardo.cineca.it  ## logon to leonardo  (e.g. WSL bash shell)\n",
    "host=$(hostname) ## make note of hostname on leonardo\n",
    "conda activate rapids-23.08   ## activate dask and rapids\n",
    "jupyter-lab --no-browser --ip $host  ## set up browser for tunnelling\n",
    "```"
   ]
  },
  {
   "cell_type": "markdown",
   "id": "d4e4563c-a0e4-467f-a98d-74c0dfa7be75",
   "metadata": {
    "slideshow": {
     "slide_type": "subslide"
    }
   },
   "source": [
    "### On local PC\n",
    "Open up a new shell on the PC and setup tunneling for both jupyter (port 8888) and Dask dashboard  server (8787)\n",
    "\n",
    "Use the same login node as above\n",
    "```bash\n",
    "## assume login was on login01\n",
    "ssh -N -L 8787:login01.leonardo.local:8787 -L 8888:login01.leonardo.local:8888 login.leonardo.cineca.it\n",
    "```\n",
    "Now open a browser window \n",
    "```\n",
    "localhost:8888/lab\n",
    "```\n",
    "Optionally you can set up a password - instructions see you-tube video above.\n",
    "On start up choose the rapids + dask kernel."
   ]
  },
  {
   "cell_type": "markdown",
   "id": "9e80f966-1c62-47b9-a4b9-449a2f0cda8e",
   "metadata": {
    "slideshow": {
     "slide_type": "slide"
    }
   },
   "source": [
    "## Getting started\n"
   ]
  },
  {
   "cell_type": "code",
   "execution_count": 1,
   "id": "6e3a6bc0-08a7-4916-9626-e11f9cf84ba8",
   "metadata": {
    "slideshow": {
     "slide_type": "subslide"
    },
    "tags": []
   },
   "outputs": [],
   "source": [
    "# Import dask and related modules.\n",
    "import numpy as np\n",
    "import pandas as pd\n",
    "import dask\n",
    "import dask.dataframe as dd\n",
    "import dask.array as da\n",
    "import dask.bag as db"
   ]
  },
  {
   "cell_type": "code",
   "execution_count": 3,
   "id": "938ccf4c-0d7c-4989-98a3-fbd4512d70f1",
   "metadata": {
    "slideshow": {
     "slide_type": "fragment"
    }
   },
   "outputs": [],
   "source": [
    "# For Leonardo and HPC systems need batch scheduler interface\n",
    "from distributed import Client\n",
    "from dask_jobqueue import SLURMCluster\n"
   ]
  },
  {
   "cell_type": "code",
   "execution_count": 4,
   "id": "5cacb371-26eb-47ec-a657-5d7e5d14f5e1",
   "metadata": {
    "slideshow": {
     "slide_type": "fragment"
    }
   },
   "outputs": [],
   "source": [
    "# Next step is to start a SLURM Cluster\n",
    "# we define the characteristics of eack worker\n",
    "cluster = SLURMCluster(cores=1,\n",
    "                       processes=1,\n",
    "                       memory=\"16GB\",\n",
    "                       account=\"cin_staff\",\n",
    "                       walltime=\"00:30:00\",\n",
    "                       interface=\"ib0\",\n",
    "                       job_extra_directives=['--tasks-per-node=1']\n",
    "                       )\n",
    "# Add more workers (i.e. SLURM jobs)\n",
    "cluster.scale(2)\n"
   ]
  },
  {
   "cell_type": "code",
   "execution_count": 6,
   "id": "fb83c26e-13d8-48b9-ac1d-7fdc7cd1894a",
   "metadata": {
    "slideshow": {
     "slide_type": "subslide"
    },
    "tags": []
   },
   "outputs": [
    {
     "name": "stdout",
     "output_type": "stream",
     "text": [
      "#!/usr/bin/env bash\n",
      "\n",
      "#SBATCH -J dask-worker\n",
      "#SBATCH -A cin_staff\n",
      "#SBATCH --cpus-per-task=1\n",
      "#SBATCH --mem=15G\n",
      "#SBATCH -t 00:30:00\n",
      "#SBATCH --nodes=1\n",
      "\n",
      "/leonardo/home/userinternal/aemerson/mambaforge/envs/rapids-23.08/bin/python -m distributed.cli.dask_worker tcp://10.128.0.2:46139 --nthreads 1 --memory-limit 14.90GiB --name dummy-name --nanny --death-timeout 120 --local-directory $TMPDIR --interface ib0\n",
      "\n"
     ]
    }
   ],
   "source": [
    "# define the client - from now on all caclulations will be done with the client\n",
    "client = Client(cluster)\n",
    "\n",
    "# check SLURM job script is valid with job_script()\n",
    "print(cluster.job_script()) \n"
   ]
  },
  {
   "cell_type": "markdown",
   "id": "eab2d7b1-a445-487c-9106-520056facc3c",
   "metadata": {
    "slideshow": {
     "slide_type": "fragment"
    }
   },
   "source": [
    "#### Check the job script\n",
    "\n",
    "It is a bit trickty getting the right options for SLURM for Leonardo. So **check carefully**\n",
    "the jobscript obtained above. You may need to use `job_extra_directives` option fine-tune the job script.\n",
    "\n",
    "Recommended to use the `jobscript.yaml` file to make sensible defaults for the cluster, overriding if necessary."
   ]
  },
  {
   "cell_type": "code",
   "execution_count": 7,
   "id": "609702d5-9688-4194-9c3a-9567945d6006",
   "metadata": {
    "slideshow": {
     "slide_type": "slide"
    }
   },
   "outputs": [
    {
     "data": {
      "text/html": [
       "<div>\n",
       "    <div style=\"width: 24px; height: 24px; background-color: #e1e1e1; border: 3px solid #9D9D9D; border-radius: 5px; position: absolute;\"> </div>\n",
       "    <div style=\"margin-left: 48px;\">\n",
       "        <h3 style=\"margin-bottom: 0px;\">Client</h3>\n",
       "        <p style=\"color: #9D9D9D; margin-bottom: 0px;\">Client-5c6625dc-4e4e-11ee-bfb3-b8cef6e51393</p>\n",
       "        <table style=\"width: 100%; text-align: left;\">\n",
       "\n",
       "        <tr>\n",
       "        \n",
       "            <td style=\"text-align: left;\"><strong>Connection method:</strong> Cluster object</td>\n",
       "            <td style=\"text-align: left;\"><strong>Cluster type:</strong> dask_jobqueue.SLURMCluster</td>\n",
       "        \n",
       "        </tr>\n",
       "\n",
       "        \n",
       "            <tr>\n",
       "                <td style=\"text-align: left;\">\n",
       "                    <strong>Dashboard: </strong> <a href=\"http://10.128.0.2:8787/status\" target=\"_blank\">http://10.128.0.2:8787/status</a>\n",
       "                </td>\n",
       "                <td style=\"text-align: left;\"></td>\n",
       "            </tr>\n",
       "        \n",
       "\n",
       "        </table>\n",
       "\n",
       "        \n",
       "\n",
       "        \n",
       "            <details>\n",
       "            <summary style=\"margin-bottom: 20px;\"><h3 style=\"display: inline;\">Cluster Info</h3></summary>\n",
       "            <div class=\"jp-RenderedHTMLCommon jp-RenderedHTML jp-mod-trusted jp-OutputArea-output\">\n",
       "    <div style=\"width: 24px; height: 24px; background-color: #e1e1e1; border: 3px solid #9D9D9D; border-radius: 5px; position: absolute;\">\n",
       "    </div>\n",
       "    <div style=\"margin-left: 48px;\">\n",
       "        <h3 style=\"margin-bottom: 0px; margin-top: 0px;\">SLURMCluster</h3>\n",
       "        <p style=\"color: #9D9D9D; margin-bottom: 0px;\">bb549a5b</p>\n",
       "        <table style=\"width: 100%; text-align: left;\">\n",
       "            <tr>\n",
       "                <td style=\"text-align: left;\">\n",
       "                    <strong>Dashboard:</strong> <a href=\"http://10.128.0.2:8787/status\" target=\"_blank\">http://10.128.0.2:8787/status</a>\n",
       "                </td>\n",
       "                <td style=\"text-align: left;\">\n",
       "                    <strong>Workers:</strong> 2\n",
       "                </td>\n",
       "            </tr>\n",
       "            <tr>\n",
       "                <td style=\"text-align: left;\">\n",
       "                    <strong>Total threads:</strong> 2\n",
       "                </td>\n",
       "                <td style=\"text-align: left;\">\n",
       "                    <strong>Total memory:</strong> 29.80 GiB\n",
       "                </td>\n",
       "            </tr>\n",
       "            \n",
       "        </table>\n",
       "\n",
       "        <details>\n",
       "            <summary style=\"margin-bottom: 20px;\">\n",
       "                <h3 style=\"display: inline;\">Scheduler Info</h3>\n",
       "            </summary>\n",
       "\n",
       "            <div style=\"\">\n",
       "    <div>\n",
       "        <div style=\"width: 24px; height: 24px; background-color: #FFF7E5; border: 3px solid #FF6132; border-radius: 5px; position: absolute;\"> </div>\n",
       "        <div style=\"margin-left: 48px;\">\n",
       "            <h3 style=\"margin-bottom: 0px;\">Scheduler</h3>\n",
       "            <p style=\"color: #9D9D9D; margin-bottom: 0px;\">Scheduler-a3e2b21a-4588-4e7b-a78a-dc793c2a3129</p>\n",
       "            <table style=\"width: 100%; text-align: left;\">\n",
       "                <tr>\n",
       "                    <td style=\"text-align: left;\">\n",
       "                        <strong>Comm:</strong> tcp://10.128.0.2:46139\n",
       "                    </td>\n",
       "                    <td style=\"text-align: left;\">\n",
       "                        <strong>Workers:</strong> 2\n",
       "                    </td>\n",
       "                </tr>\n",
       "                <tr>\n",
       "                    <td style=\"text-align: left;\">\n",
       "                        <strong>Dashboard:</strong> <a href=\"http://10.128.0.2:8787/status\" target=\"_blank\">http://10.128.0.2:8787/status</a>\n",
       "                    </td>\n",
       "                    <td style=\"text-align: left;\">\n",
       "                        <strong>Total threads:</strong> 2\n",
       "                    </td>\n",
       "                </tr>\n",
       "                <tr>\n",
       "                    <td style=\"text-align: left;\">\n",
       "                        <strong>Started:</strong> Just now\n",
       "                    </td>\n",
       "                    <td style=\"text-align: left;\">\n",
       "                        <strong>Total memory:</strong> 29.80 GiB\n",
       "                    </td>\n",
       "                </tr>\n",
       "            </table>\n",
       "        </div>\n",
       "    </div>\n",
       "\n",
       "    <details style=\"margin-left: 48px;\">\n",
       "        <summary style=\"margin-bottom: 20px;\">\n",
       "            <h3 style=\"display: inline;\">Workers</h3>\n",
       "        </summary>\n",
       "\n",
       "        \n",
       "        <div style=\"margin-bottom: 20px;\">\n",
       "            <div style=\"width: 24px; height: 24px; background-color: #DBF5FF; border: 3px solid #4CC9FF; border-radius: 5px; position: absolute;\"> </div>\n",
       "            <div style=\"margin-left: 48px;\">\n",
       "            <details>\n",
       "                <summary>\n",
       "                    <h4 style=\"margin-bottom: 0px; display: inline;\">Worker: SLURMCluster-0</h4>\n",
       "                </summary>\n",
       "                <table style=\"width: 100%; text-align: left;\">\n",
       "                    <tr>\n",
       "                        <td style=\"text-align: left;\">\n",
       "                            <strong>Comm: </strong> tcp://10.128.60.25:39449\n",
       "                        </td>\n",
       "                        <td style=\"text-align: left;\">\n",
       "                            <strong>Total threads: </strong> 1\n",
       "                        </td>\n",
       "                    </tr>\n",
       "                    <tr>\n",
       "                        <td style=\"text-align: left;\">\n",
       "                            <strong>Dashboard: </strong> <a href=\"http://10.128.60.25:46291/status\" target=\"_blank\">http://10.128.60.25:46291/status</a>\n",
       "                        </td>\n",
       "                        <td style=\"text-align: left;\">\n",
       "                            <strong>Memory: </strong> 14.90 GiB\n",
       "                        </td>\n",
       "                    </tr>\n",
       "                    <tr>\n",
       "                        <td style=\"text-align: left;\">\n",
       "                            <strong>Nanny: </strong> tcp://10.128.60.25:37395\n",
       "                        </td>\n",
       "                        <td style=\"text-align: left;\"></td>\n",
       "                    </tr>\n",
       "                    <tr>\n",
       "                        <td colspan=\"2\" style=\"text-align: left;\">\n",
       "                            <strong>Local directory: </strong> /dev/shm/slurm_job.1175032/dask-scratch-space/worker-f7tqvmap\n",
       "                        </td>\n",
       "                    </tr>\n",
       "\n",
       "                    \n",
       "\n",
       "                    \n",
       "\n",
       "                </table>\n",
       "            </details>\n",
       "            </div>\n",
       "        </div>\n",
       "        \n",
       "        <div style=\"margin-bottom: 20px;\">\n",
       "            <div style=\"width: 24px; height: 24px; background-color: #DBF5FF; border: 3px solid #4CC9FF; border-radius: 5px; position: absolute;\"> </div>\n",
       "            <div style=\"margin-left: 48px;\">\n",
       "            <details>\n",
       "                <summary>\n",
       "                    <h4 style=\"margin-bottom: 0px; display: inline;\">Worker: SLURMCluster-1</h4>\n",
       "                </summary>\n",
       "                <table style=\"width: 100%; text-align: left;\">\n",
       "                    <tr>\n",
       "                        <td style=\"text-align: left;\">\n",
       "                            <strong>Comm: </strong> tcp://10.128.60.25:34553\n",
       "                        </td>\n",
       "                        <td style=\"text-align: left;\">\n",
       "                            <strong>Total threads: </strong> 1\n",
       "                        </td>\n",
       "                    </tr>\n",
       "                    <tr>\n",
       "                        <td style=\"text-align: left;\">\n",
       "                            <strong>Dashboard: </strong> <a href=\"http://10.128.60.25:40221/status\" target=\"_blank\">http://10.128.60.25:40221/status</a>\n",
       "                        </td>\n",
       "                        <td style=\"text-align: left;\">\n",
       "                            <strong>Memory: </strong> 14.90 GiB\n",
       "                        </td>\n",
       "                    </tr>\n",
       "                    <tr>\n",
       "                        <td style=\"text-align: left;\">\n",
       "                            <strong>Nanny: </strong> tcp://10.128.60.25:35445\n",
       "                        </td>\n",
       "                        <td style=\"text-align: left;\"></td>\n",
       "                    </tr>\n",
       "                    <tr>\n",
       "                        <td colspan=\"2\" style=\"text-align: left;\">\n",
       "                            <strong>Local directory: </strong> /dev/shm/slurm_job.1175033/dask-scratch-space/worker-u3opy0uh\n",
       "                        </td>\n",
       "                    </tr>\n",
       "\n",
       "                    \n",
       "\n",
       "                    \n",
       "\n",
       "                </table>\n",
       "            </details>\n",
       "            </div>\n",
       "        </div>\n",
       "        \n",
       "\n",
       "    </details>\n",
       "</div>\n",
       "\n",
       "        </details>\n",
       "    </div>\n",
       "</div>\n",
       "            </details>\n",
       "        \n",
       "\n",
       "    </div>\n",
       "</div>"
      ],
      "text/plain": [
       "<Client: 'tcp://10.128.0.2:46139' processes=2 threads=2, memory=29.80 GiB>"
      ]
     },
     "execution_count": 7,
     "metadata": {},
     "output_type": "execute_result"
    }
   ],
   "source": [
    "## check client directly, also get dashboard ip\n",
    "client"
   ]
  },
  {
   "cell_type": "markdown",
   "id": "82d71456-51be-4422-a7b5-36c69745ba53",
   "metadata": {
    "slideshow": {
     "slide_type": "slide"
    }
   },
   "source": [
    "### Simple example"
   ]
  },
  {
   "cell_type": "markdown",
   "id": "69360666-3a4a-4923-9821-152f873850d0",
   "metadata": {
    "slideshow": {
     "slide_type": "subslide"
    }
   },
   "source": [
    "Now let us give out cluster some work to do.\n",
    "Remember to check the dashboard and `squeue` on Leonardo to see the jobs being submitted. "
   ]
  },
  {
   "cell_type": "code",
   "execution_count": null,
   "id": "c8aab775-1615-4607-ab76-fb06e8893505",
   "metadata": {
    "slideshow": {
     "slide_type": "fragment"
    },
    "tags": []
   },
   "outputs": [
    {
     "name": "stdout",
     "output_type": "stream",
     "text": [
      "dask.array<random_sample, shape=(30000, 30000), dtype=float64, chunksize=(1000, 1000), chunktype=numpy.ndarray>\n"
     ]
    }
   ],
   "source": [
    "# Simple Matrix operations - they will now use the SLURM cluster\n",
    "## check with squeue on Leonardo\n",
    "import dask.array as da\n",
    "x=da.random.random((30000,30000),chunks=(1000,1000))\n",
    "print(x)\n",
    "x=x.persist()            # compute object, but keep it distributed among partitions\n",
    "y=(x+x.T)-x.mean(axis=0)\n",
    "y=y.persist()\n"
   ]
  },
  {
   "cell_type": "code",
   "execution_count": null,
   "id": "7749245f-3011-4d53-af64-756a55e86034",
   "metadata": {
    "slideshow": {
     "slide_type": "fragment"
    },
    "tags": []
   },
   "outputs": [],
   "source": [
    "x"
   ]
  },
  {
   "cell_type": "markdown",
   "id": "b766ff87-5fce-4fa0-9477-de30510a9403",
   "metadata": {
    "slideshow": {
     "slide_type": "slide"
    }
   },
   "source": [
    "### Shutting down the server"
   ]
  },
  {
   "cell_type": "markdown",
   "id": "8b1419b1-df08-4f67-91fc-c82114ef20b5",
   "metadata": {
    "slideshow": {
     "slide_type": "fragment"
    }
   },
   "source": [
    "Recommend, also because batch jobs will stay waiting "
   ]
  },
  {
   "cell_type": "code",
   "execution_count": 13,
   "id": "613d9ee4-e588-4b21-a67d-fa69096df4ff",
   "metadata": {
    "slideshow": {
     "slide_type": "fragment"
    }
   },
   "outputs": [
    {
     "data": {
      "text/plain": [
       "(None, None)"
      ]
     },
     "execution_count": 13,
     "metadata": {},
     "output_type": "execute_result"
    }
   ],
   "source": [
    "client.cluster.close(),client.close()"
   ]
  },
  {
   "cell_type": "markdown",
   "id": "a0a1f0d0-8e29-4ba2-b6b3-efcec1a1fab3",
   "metadata": {
    "slideshow": {
     "slide_type": "slide"
    }
   },
   "source": [
    "## Dask MPI\n",
    "Using Dask in an MPI environment allows us to use multiple nodes for our Dask cluster.\n",
    "In dask mpi, `mpi4ypy` is used to allocate the resources which the workers then connect to but,  **very important**, you must allocate\n",
    "N+2 tasks for N workers since 2 tasks are used for the sheduler and the client.\n",
    "Bear in mind also MPI _does not handle communications_, tcp is the default.\n",
    "\n",
    "### How to run a dask mpi job\n",
    "In the slurm batch job use mpirun to launch the client:\n",
    "```bash\n",
    "mpirun python client-py\n",
    "```\n",
    "The client needs the following code:\n",
    "```python\n",
    "from dask_mpi import initialize\n",
    "initialize(interface='ib0',nanny=False) \n",
    "\n",
    "from distributed import Client\n",
    "client = Client()\n",
    "# do something here\n",
    "client.close()  # this gives errors but does not affect execution (https://github.com/dask/dask-mpi/issues/94)\n",
    "\n",
    "```\n",
    "In addition, it is recommended to print the address of the dashboard which you can tunnel to when the job starts.\n",
    "```python\n",
    "# tunnelling info for dashboard\n",
    "import socket\n",
    "host = client.run_on_scheduler(socket.gethostname)\n",
    "port = client.scheduler_info()['services']['dashboard']\n",
    "login_node_address = \"login.leonardo.cineca.it\" # Provide address/domain of login node\n",
    "\n",
    "print(f\"ssh -N -L {port}:{host}:{port} {login_node_address}\")\n",
    "sleep(30) # to give time to start the tunneling\n",
    "```\n",
    "Note that MPI is used to start the jobs but not perform the communication, which by default is tcp (need to check if the infiniband interface works)\n",
    "\n",
    "### GPUs\n",
    "For the moment DASK MPI does *not* seem to work with GPUs.\n",
    "The problem is due to the fact it is not possible to ovverride the 'nanny' option when using  CUDA workers.\n",
    "There is an open git issue: (https://github.com/rapidsai/dask-cuda/issues/741) but there appears no interest in resolving it.\n",
    "\n",
    "### Issues\n",
    "- Havent quite worked out how to divide correctly up the resources (thread, memory, processes,etc) from the batch job to the workers\n",
    "- Havent checked if the infiniband option is really using infiniband"
   ]
  },
  {
   "cell_type": "markdown",
   "id": "505b123e-7282-4305-b598-bd84972751f7",
   "metadata": {
    "slideshow": {
     "slide_type": "slide"
    }
   },
   "source": [
    "----------------------------------------------------------------------\n",
    "\n",
    "### Quick note on Rapids and dask\n",
    "\n",
    "NVIDIA CUDA-based tools for dataframes, machine learning, and many other statistical or processing methods.\n",
    "\n",
    "#### cuDF\n",
    "cuDF is a Python GPU DataFrame library (built on the Apache Arrow columnar memory format) for loading, joining, aggregating, filtering, and otherwise manipulating tabular data using a DataFrame style API in the style of pandas. It can be very much faster than pandas on the CPU.\n",
    "\n",
    "**Usage**\n",
    "\n",
    "If using 1 GPU then cudf (without dask) as a drop-in replacement for pandas  is probably fine. \n",
    "\n",
    "For larger jobs you should either use some chunking mechanism or better use dask with cudf.\n",
    "  \n",
    "\n",
    "```python\n",
    "import cudf\n",
    "import dask_cudf\n",
    "df=cudf.read_csv(file)\n",
    "ddf=dask_cudf.read_csv(...)   # uses cudf to read the csv\n",
    "```\n",
    "\n",
    "`cudf` has most of the features of pandas, but there are differences so you should check the [documentation](https://docs.rapids.ai/api/cudf/stable/user_guide/pandas-comparison/).\n",
    "\n",
    "---------------------------------------------------------------------"
   ]
  },
  {
   "cell_type": "code",
   "execution_count": null,
   "id": "9afd33a2-bce4-4512-8ea5-969b43894489",
   "metadata": {},
   "outputs": [],
   "source": []
  },
  {
   "cell_type": "markdown",
   "id": "f5279e6a-64d3-4ed2-aabb-6efa5beb6f44",
   "metadata": {
    "slideshow": {
     "slide_type": "slide"
    }
   },
   "source": [
    "## GPU-based benchmark on Leonardo with Rapids and Dask\n",
    "\n",
    "### Objective\n",
    "Read a very-large csv file (output from Ligen) and generate statistics.\n",
    "\n",
    "### Procedure\n",
    "1. Try first with standard Pandas tools\n",
    "2. Set up a SLURM cluster, requesting GPUS for the calculations\n",
    "3. Launch calculation based on Rapids (GPU-based python tools) and dask\n",
    "\n",
    "We will launch directly batch jobs, monitoring the dashboard with tunneling.\n",
    "\n"
   ]
  },
  {
   "cell_type": "markdown",
   "id": "ada7db66-f29b-4d7f-a12d-78d96db00fda",
   "metadata": {
    "slideshow": {
     "slide_type": "subslide"
    }
   },
   "source": [
    "#### Datafile\n",
    "The datafiles, when read into a dataframe, look like this, but could be any csv file:\n"
   ]
  },
  {
   "cell_type": "code",
   "execution_count": 12,
   "id": "f83d9a39-26a5-4e6f-8001-c7ce01c66071",
   "metadata": {
    "slideshow": {
     "slide_type": "skip"
    },
    "tags": []
   },
   "outputs": [],
   "source": [
    "df=pd.read_csv(\"../src/small.csv\")\n",
    "cols=['protein'+str(x) for x in range (1,20)]\n",
    "cols.insert(0,'smiles')\n",
    "df.columns=cols"
   ]
  },
  {
   "cell_type": "code",
   "execution_count": 4,
   "id": "8a19669e-88b1-4dc2-90d7-66b68618256e",
   "metadata": {
    "slideshow": {
     "slide_type": "fragment"
    },
    "tags": []
   },
   "outputs": [
    {
     "data": {
      "text/html": [
       "<div>\n",
       "<style scoped>\n",
       "    .dataframe tbody tr th:only-of-type {\n",
       "        vertical-align: middle;\n",
       "    }\n",
       "\n",
       "    .dataframe tbody tr th {\n",
       "        vertical-align: top;\n",
       "    }\n",
       "\n",
       "    .dataframe thead th {\n",
       "        text-align: right;\n",
       "    }\n",
       "</style>\n",
       "<table border=\"1\" class=\"dataframe\">\n",
       "  <thead>\n",
       "    <tr style=\"text-align: right;\">\n",
       "      <th></th>\n",
       "      <th>smiles</th>\n",
       "      <th>protein1</th>\n",
       "      <th>protein2</th>\n",
       "      <th>protein3</th>\n",
       "      <th>protein4</th>\n",
       "      <th>protein5</th>\n",
       "      <th>protein6</th>\n",
       "      <th>protein7</th>\n",
       "      <th>protein8</th>\n",
       "      <th>protein9</th>\n",
       "      <th>protein10</th>\n",
       "      <th>protein11</th>\n",
       "      <th>protein12</th>\n",
       "      <th>protein13</th>\n",
       "      <th>protein14</th>\n",
       "      <th>protein15</th>\n",
       "      <th>protein16</th>\n",
       "      <th>protein17</th>\n",
       "      <th>protein18</th>\n",
       "      <th>protein19</th>\n",
       "    </tr>\n",
       "  </thead>\n",
       "  <tbody>\n",
       "    <tr>\n",
       "      <th>0</th>\n",
       "      <td>CNc1c2c(c(c3cn[nH]c13)[N+](=O)[O-])C(C)(C)CC2(C)C</td>\n",
       "      <td>6.0981</td>\n",
       "      <td>5.9375</td>\n",
       "      <td>5.4992</td>\n",
       "      <td>5.1303</td>\n",
       "      <td>6.5374</td>\n",
       "      <td>6.0869</td>\n",
       "      <td>6.3480</td>\n",
       "      <td>6.7155</td>\n",
       "      <td>7.3324</td>\n",
       "      <td>6.4307</td>\n",
       "      <td>6.4635</td>\n",
       "      <td>7.2204</td>\n",
       "      <td>5.5936</td>\n",
       "      <td>6.9838</td>\n",
       "      <td>4.5256</td>\n",
       "      <td>5.8861</td>\n",
       "      <td>5.3606</td>\n",
       "      <td>6.2113</td>\n",
       "      <td>5.7935</td>\n",
       "    </tr>\n",
       "    <tr>\n",
       "      <th>1</th>\n",
       "      <td>CNc1c2CCCc2cc3C=C(C)Cc13</td>\n",
       "      <td>4.0999</td>\n",
       "      <td>1.9553</td>\n",
       "      <td>4.1166</td>\n",
       "      <td>3.5783</td>\n",
       "      <td>3.5643</td>\n",
       "      <td>4.6520</td>\n",
       "      <td>5.2459</td>\n",
       "      <td>3.0994</td>\n",
       "      <td>3.8211</td>\n",
       "      <td>3.0018</td>\n",
       "      <td>5.2026</td>\n",
       "      <td>5.1380</td>\n",
       "      <td>4.7990</td>\n",
       "      <td>3.8637</td>\n",
       "      <td>2.6954</td>\n",
       "      <td>4.3579</td>\n",
       "      <td>3.9744</td>\n",
       "      <td>3.4655</td>\n",
       "      <td>3.7040</td>\n",
       "    </tr>\n",
       "    <tr>\n",
       "      <th>2</th>\n",
       "      <td>CNc1c2CCCc2cc3C(=O)C(C)Cc13</td>\n",
       "      <td>3.5742</td>\n",
       "      <td>4.7209</td>\n",
       "      <td>4.5258</td>\n",
       "      <td>4.6555</td>\n",
       "      <td>4.2643</td>\n",
       "      <td>3.2156</td>\n",
       "      <td>4.8925</td>\n",
       "      <td>3.4152</td>\n",
       "      <td>4.6031</td>\n",
       "      <td>4.2604</td>\n",
       "      <td>5.8570</td>\n",
       "      <td>4.7310</td>\n",
       "      <td>5.3198</td>\n",
       "      <td>3.7583</td>\n",
       "      <td>2.8480</td>\n",
       "      <td>3.7759</td>\n",
       "      <td>5.8479</td>\n",
       "      <td>4.2895</td>\n",
       "      <td>5.3379</td>\n",
       "    </tr>\n",
       "    <tr>\n",
       "      <th>3</th>\n",
       "      <td>CNc1c2CCCc2c(C#N)c3nc4ccccc4n13</td>\n",
       "      <td>3.8752</td>\n",
       "      <td>2.2390</td>\n",
       "      <td>4.2739</td>\n",
       "      <td>4.3713</td>\n",
       "      <td>5.1142</td>\n",
       "      <td>5.6888</td>\n",
       "      <td>5.4354</td>\n",
       "      <td>6.5651</td>\n",
       "      <td>5.9014</td>\n",
       "      <td>4.3595</td>\n",
       "      <td>5.5669</td>\n",
       "      <td>7.3213</td>\n",
       "      <td>4.1309</td>\n",
       "      <td>4.4972</td>\n",
       "      <td>3.1692</td>\n",
       "      <td>3.3411</td>\n",
       "      <td>5.0769</td>\n",
       "      <td>6.1888</td>\n",
       "      <td>4.5990</td>\n",
       "    </tr>\n",
       "    <tr>\n",
       "      <th>4</th>\n",
       "      <td>CNc1c2CCCc2nc3c(Br)cnn13</td>\n",
       "      <td>3.0625</td>\n",
       "      <td>2.5276</td>\n",
       "      <td>1.8407</td>\n",
       "      <td>4.4455</td>\n",
       "      <td>4.5818</td>\n",
       "      <td>4.4631</td>\n",
       "      <td>4.0208</td>\n",
       "      <td>4.2331</td>\n",
       "      <td>5.1412</td>\n",
       "      <td>3.6220</td>\n",
       "      <td>5.4550</td>\n",
       "      <td>3.6272</td>\n",
       "      <td>3.7502</td>\n",
       "      <td>2.9225</td>\n",
       "      <td>2.4910</td>\n",
       "      <td>5.2443</td>\n",
       "      <td>4.1639</td>\n",
       "      <td>3.3622</td>\n",
       "      <td>5.2098</td>\n",
       "    </tr>\n",
       "  </tbody>\n",
       "</table>\n",
       "</div>"
      ],
      "text/plain": [
       "                                              smiles  protein1  protein2  \\\n",
       "0  CNc1c2c(c(c3cn[nH]c13)[N+](=O)[O-])C(C)(C)CC2(C)C    6.0981    5.9375   \n",
       "1                           CNc1c2CCCc2cc3C=C(C)Cc13    4.0999    1.9553   \n",
       "2                        CNc1c2CCCc2cc3C(=O)C(C)Cc13    3.5742    4.7209   \n",
       "3                    CNc1c2CCCc2c(C#N)c3nc4ccccc4n13    3.8752    2.2390   \n",
       "4                           CNc1c2CCCc2nc3c(Br)cnn13    3.0625    2.5276   \n",
       "\n",
       "   protein3  protein4  protein5  protein6  protein7  protein8  protein9  \\\n",
       "0    5.4992    5.1303    6.5374    6.0869    6.3480    6.7155    7.3324   \n",
       "1    4.1166    3.5783    3.5643    4.6520    5.2459    3.0994    3.8211   \n",
       "2    4.5258    4.6555    4.2643    3.2156    4.8925    3.4152    4.6031   \n",
       "3    4.2739    4.3713    5.1142    5.6888    5.4354    6.5651    5.9014   \n",
       "4    1.8407    4.4455    4.5818    4.4631    4.0208    4.2331    5.1412   \n",
       "\n",
       "   protein10  protein11  protein12  protein13  protein14  protein15  \\\n",
       "0     6.4307     6.4635     7.2204     5.5936     6.9838     4.5256   \n",
       "1     3.0018     5.2026     5.1380     4.7990     3.8637     2.6954   \n",
       "2     4.2604     5.8570     4.7310     5.3198     3.7583     2.8480   \n",
       "3     4.3595     5.5669     7.3213     4.1309     4.4972     3.1692   \n",
       "4     3.6220     5.4550     3.6272     3.7502     2.9225     2.4910   \n",
       "\n",
       "   protein16  protein17  protein18  protein19  \n",
       "0     5.8861     5.3606     6.2113     5.7935  \n",
       "1     4.3579     3.9744     3.4655     3.7040  \n",
       "2     3.7759     5.8479     4.2895     5.3379  \n",
       "3     3.3411     5.0769     6.1888     4.5990  \n",
       "4     5.2443     4.1639     3.3622     5.2098  "
      ]
     },
     "execution_count": 4,
     "metadata": {},
     "output_type": "execute_result"
    }
   ],
   "source": [
    "df.head()"
   ]
  },
  {
   "cell_type": "code",
   "execution_count": null,
   "id": "904f85d8-5606-4760-8db6-47b056764ff1",
   "metadata": {
    "slideshow": {
     "slide_type": "fragment"
    },
    "tags": []
   },
   "outputs": [],
   "source": [
    "The first column represents a smile string (representing a molecule),\n",
    "while the other columns represent 'scores', estimating the\n",
    "binding that molecule against a protein target (and hence the potential as a drug)."
   ]
  },
  {
   "cell_type": "code",
   "execution_count": null,
   "id": "4eaf126c-179e-4797-a3fa-ad19fca3001f",
   "metadata": {
    "slideshow": {
     "slide_type": "slide"
    }
   },
   "outputs": [],
   "source": [
    "#### Pandas code\n",
    "\n",
    "We do a simple dataframe read for both pandas and dask-cudf\n",
    "```python\n",
    "import pandas as pd\n",
    "import dask_cudf as ddf\n",
    "\n",
    "df=pd.read_csv(filename,header=None).set_index(\"smiles\") # also read_csv(file,index_col=0) but there is an issue with dask\n",
    "df.describe()\n",
    "\n",
    "ddf=pd.read_csv(filename,header=None).set_index(\"smiles\")\n",
    "ddf.persist() # resolve the ddf, but still in parallel\n",
    "ddf.describe(datetime_is_numeric=True).compute())   # compute the stats\n",
    "```\n"
   ]
  },
  {
   "cell_type": "markdown",
   "id": "524b0b90-00be-439b-ae08-f040874892e4",
   "metadata": {
    "slideshow": {
     "slide_type": "slide"
    }
   },
   "source": [
    "#### For DASK+CUDA we set up a CUDA cluster and use rapids (dask_cudf)\n",
    "```python\n",
    "### Dask set up\n",
    "from dask_cuda import LocalCUDACluster\n",
    "import dask_cudf as dd\n",
    "from dask.distributed import Client, progress, wait\n",
    "\n",
    "cluster = LocalCUDACluster() # rmm_pool_size = '28GiB')\n",
    "client = Client(cluster)\n",
    "print(client)\n",
    "host = client.run_on_scheduler(socket.gethostname)\n",
    "port = client.scheduler_info()['services']['dashboard']\n",
    "login_node_address = \"login.leonardo.cineca.it\" # Provide address/domain of login node\n",
    "print(f\"ssh -N -L {port}:{host}:{port} {login_node_address}\",flush=True)\n",
    "sleep(30)  # give time to set up tunneling\n",
    "'''\n",
    "pandas code\n",
    "'''\n",
    "```\n"
   ]
  },
  {
   "cell_type": "markdown",
   "id": "fb66e884",
   "metadata": {
    "slideshow": {
     "slide_type": "skip"
    },
    "tags": []
   },
   "source": [
    "### Resources\n",
    "\n",
    "1. Pandas\n",
    "2. Dask+ Cudf (from Nvidia Rapids)\n"
   ]
  },
  {
   "cell_type": "markdown",
   "id": "a100e402-7bed-4d4f-9232-df54237cb467",
   "metadata": {
    "slideshow": {
     "slide_type": "slide"
    },
    "tags": []
   },
   "source": [
    "#### We are now ready to submit the following [batch job](batch-dask-cuda.sh)"
   ]
  },
  {
   "cell_type": "code",
   "execution_count": 5,
   "id": "67f4882b-897b-416c-a377-bfeec9905678",
   "metadata": {
    "slideshow": {
     "slide_type": "fragment"
    },
    "tags": []
   },
   "outputs": [
    {
     "name": "stdout",
     "output_type": "stream",
     "text": [
      "#!/bin/bash\n",
      "#SBATCH -N1 --tasks-per-node=4\n",
      "#SBATCH -p boost_usr_prod \n",
      "#SBATCH -t 30:00\n",
      "#SBATCH --mem=100GB\n",
      "#SBATCH --gres=gpu:4\n",
      "#SBATCH -A cin_staff\n",
      "\n",
      "module load cuda\n",
      "prog=\"run-dask.py\"\n",
      "datafile=\"$CINECA_SCRATCH/very_huge.csv\"\n",
      "#source $HOME/modin/bin/activate\n",
      ". \"/leonardo/home/userinternal/aemerson/mambaforge/etc/profile.d/conda.sh\"\n",
      ". \"/leonardo/home/userinternal/aemerson/mambaforge/etc/profile.d/mamba.sh\"\n",
      "mamba activate rapids-23.08\n",
      "python ../src/run-dask-cuda.py -f $datafile > very_huge.out\n"
     ]
    }
   ],
   "source": [
    "!cat batch-dask-cuda.sh"
   ]
  },
  {
   "cell_type": "markdown",
   "id": "e1ada079-ca50-4700-b5a8-f45f920d54c1",
   "metadata": {
    "slideshow": {
     "slide_type": "slide"
    },
    "tags": []
   },
   "source": [
    "## Results\n",
    "\n",
    "*Disclaimer*: using only default parameters. No attempt to optimize for either Dask or Pandas.\n",
    "For Dask we invoke the `persist()` method to load the dataframe into memory.\n",
    "\n",
    "### Read csv\n",
    "\n",
    "| file | file size (Gb)| Pandas (s)| Dask (GPU) (s)|\n",
    "| ------|---------------|--------|---------- |\n",
    "| small | 4.1 | 35.4 |5.9 |\n",
    "| medium | 8.2 | 70.0| 6.9 |\n",
    "| very big | 17.0 | 138.0 | 11.8|\n",
    "| huge | 33.0 | 273.4 |17.5 |\n",
    "| very huge | 66.0 | 546.7|33.1 |\n",
    "\n",
    "\n",
    "### df.describe()\n",
    "\n",
    "| file |  file size (Gb) |Pandas | Dask |\n",
    "| -----|---|---|--------|\n",
    "| small | 4.1|  16.3|5.1|\n",
    "| medium | 8.2| 32.3| 11.0|\n",
    "| very big |17.0| 71.5|22.8|\n",
    "| huge | 33.0| 170.0| 45.8| \n",
    "| very huge |66.0| 344.8| 105.7|\n",
    "\n"
   ]
  },
  {
   "cell_type": "code",
   "execution_count": 2,
   "id": "4cfead45-066e-495a-8ae9-a4e1b196ab1d",
   "metadata": {
    "jupyter": {
     "source_hidden": true
    },
    "slideshow": {
     "slide_type": "skip"
    },
    "tags": []
   },
   "outputs": [],
   "source": [
    "## dataframes\n",
    "filesize=['4.1','8.2','17.0','33.0','66.0']\n",
    "df_read=pd.DataFrame.from_dict({'file size(Gb)': filesize, 'pandas': [ 35.4,70.0, 138.0, 273.4,546.7] , \n",
    "                                'dask_cudf' : [5.9,6.9,11.8,17.5,33.1]})\n",
    "df_describe=pd.DataFrame.from_dict( {'file size(Gb)': filesize, 'pandas':[16.3, 32.3, 71.5, 170.0, 344.8],\n",
    "                                'dask_cudf' : [5.1, 11.0, 22.8, 45.8, 105.7] })"
   ]
  },
  {
   "cell_type": "code",
   "execution_count": 33,
   "id": "898219e3-84dd-4419-ae3f-e6326d59592f",
   "metadata": {
    "jupyter": {
     "source_hidden": true
    },
    "slideshow": {
     "slide_type": "skip"
    },
    "tags": []
   },
   "outputs": [
    {
     "data": {
      "image/png": "[encoded data removed]",
      "text/plain": [
       "<Figure size 1000x600 with 2 Axes>"
      ]
     },
     "metadata": {},
     "output_type": "display_data"
    }
   ],
   "source": [
    "## graphs\n",
    "import matplotlib.pyplot as plt\n",
    "fig, ax = plt.subplots(1,2,sharex=True)\n",
    "    \n",
    "ax[0].bar(filesize,df_read['pandas'],label='pandas')\n",
    "ax[0].bar(filesize,df_read['dask_cudf'],label='dask')\n",
    "ax[0].set_ylabel('Time (s)')\n",
    "ax[0].set_xlabel('CSV file size (Gb)')\n",
    "ax[0].legend(title=\"dataframe type\")\n",
    "ax[0].set_title(\"CSV read times with Pandas and DASK-CUDF\")\n",
    "\n",
    "ax[1].bar(filesize,df_describe['pandas'],label='pandas')\n",
    "ax[1].bar(filesize,df_describe['dask_cudf'],label='dask')\n",
    "ax[1].set_ylabel('Time (s)')\n",
    "ax[1].set_xlabel('CSV file size (Gb)')\n",
    "ax[1].legend(title=\"dataframe type\")\n",
    "ax[1].set_title(\"df.describe times with Pandas and DASK-CUDF\")\n",
    "\n",
    "#plt.subplots_adjust(bottom=0.1, right=1.5, top=1.0)\n",
    "plt.rcParams['figure.figsize'] = [8, 6]\n",
    "\n",
    "plt.savefig(\"svg/read_describe.svg\")"
   ]
  },
  {
   "cell_type": "markdown",
   "id": "37d38d1a-cd2c-4741-8b3a-70d76d863d06",
   "metadata": {
    "slideshow": {
     "slide_type": "slide"
    },
    "tags": []
   },
   "source": [
    "<img src=\"svg/read_describe.svg\" width=800 height=500></src>"
   ]
  },
  {
   "cell_type": "markdown",
   "id": "2a2d56aa-ba52-49be-be39-e8c8075d668d",
   "metadata": {
    "slideshow": {
     "slide_type": "fragment"
    },
    "tags": []
   },
   "source": [
    "-------------------------------------------------------------------------------------------------------\n",
    "\n",
    "> For CSV read, Dask + GPU  is nearly **16 times faster** than plain Pandas on CPU. The describe function in our example is about **3 times faster**.\n",
    "\n",
    "--------------------------------------------------------------------------------------------------------"
   ]
  },
  {
   "cell_type": "markdown",
   "id": "78df57d4-1a55-4804-865f-0dc014c1b78f",
   "metadata": {
    "jupyter": {
     "source_hidden": true
    },
    "slideshow": {
     "slide_type": "slide"
    },
    "tags": []
   },
   "source": [
    "## Sorting on GPUs"
   ]
  },
  {
   "cell_type": "markdown",
   "id": "822ed4f1-9548-4f3e-ab6e-8fbf8e74f56d",
   "metadata": {
    "jupyter": {
     "source_hidden": true
    },
    "tags": []
   },
   "source": [
    "```python\n",
    "from dask_cuda import LocalCUDACluster\n",
    "import dask_cudf as dd\n",
    "from dask.distributed import Client, performance_report\n",
    "\n",
    "cluster = LocalCUDACluster()\n",
    "\n",
    "with performance_report(filename=\"perf.html\"):        \n",
    "    ddf = dd.read_parquet(input_path+'/PARQUET_BROTLI/*', index='SMILES', columns ['3CL_6A']).sort_values('3CL_6A').persist()\n",
    "\n",
    "\n"
   ]
  },
  {
   "cell_type": "markdown",
   "id": "181a98bb-3765-4fc6-9e7f-01aaa8e13939",
   "metadata": {
    "slideshow": {
     "slide_type": "slide"
    },
    "tags": []
   },
   "source": [
    "## Current status in Ligate\n",
    "\n",
    "\n",
    "Conversion of <mark>11Tb of csv files</mark> from the \"Big Run \" experiment of Exscalate4Cov into parquet files,\n",
    "and removing duplicate entries (i.e. with multiple smiles strings ). \n",
    "\n",
    "- Achieved on 4 Leonardo nodes using CPUs in about 4 hours (remember dask mpi/CUDA problem), generating <mark>3 Tb of parquet files</mark>\n",
    "    \n",
    "### Work in progress ## \n",
    "\n",
    "- Construct DASK-powered pipeline for drug discovery\n"
   ]
  },
  {
   "cell_type": "markdown",
   "id": "6617d89f-cff4-4baa-8799-02d7d6ae8261",
   "metadata": {
    "slideshow": {
     "slide_type": "slide"
    },
    "tags": []
   },
   "source": [
    "## Take home messages for Dask HPC\n",
    "\n",
    "1. pandas is fine for small datasets which fit in local memory, but struggles with bigger ones\n",
    "2. Good use case: dask for thinning very large data sets - then switch to use pandas\n",
    "3. Dask + Nvidia rapids is a good combination for some operations (file conversions, datafames) but dask mpi (+CPU) is better for others (sorting).\n",
    "4. Use `.persist()` instead of `.compute()` when possible. `.shuffle()` also really useful for grouping data on the same partition\n",
    "5. Dask mpi would be most convenient for HPC, if were not for the CUDA problem.\n",
    "6. Dont use csv with gzip - **parquet** is faster and smaller. In addition, numpy reads csv as 64 bit which is normally overkill - convert to 32 bit.\n",
    "7. With GPUs and Rapids, 16 bit (or lower) might be an option. Also need to know how to test **NVLINK**.\n",
    "8. Need to investigate Dask Gateway - could be very useful data analytics service."
   ]
  },
  {
   "cell_type": "markdown",
   "id": "35636103-844b-4b07-89c5-99db699a9f74",
   "metadata": {
    "slideshow": {
     "slide_type": "slide"
    },
    "tags": []
   },
   "source": [
    "## Experience with Dask\n",
    "\n",
    "**Plus**\n",
    "\n",
    "- Very powerful, with many features.\n",
    "- Easy installation\n",
    "- Integrates with pandas, Rapids, and most Python codes with few changes\n",
    "- Dashboard is very useful (and cool)\n",
    "- Integrates on the whole well with HPC\n",
    "\n",
    "\n",
    "**Minus**\n",
    "\n",
    "- Lots of features and parameters, not obvious the best way to do things\n",
    "    - Considerable experimentation required, particularly with threads, workers and memory settings.\n",
    "- Workers may die unexpectedly or become unresponsive if not used (cf with MPI)\n",
    "    - Possible to add process pool to the thread pool (https://www.youtube.com/watch?v=vF2VItVU5zg)\n",
    "- Some issues (e.g. MPI + CUDA) still not solved, and may never be.\n"
   ]
  },
  {
   "cell_type": "code",
   "execution_count": null,
   "id": "9d4a5429-6f2f-4d0e-b4af-e53c6e69828a",
   "metadata": {},
   "outputs": [],
   "source": []
  }
 ],
 "metadata": {
  "celltoolbar": "Slideshow",
  "kernelspec": {
   "display_name": "dask",
   "language": "python",
   "name": "dask"
  },
  "language_info": {
   "codemirror_mode": {
    "name": "ipython",
    "version": 3
   },
   "file_extension": ".py",
   "mimetype": "text/x-python",
   "name": "python",
   "nbconvert_exporter": "python",
   "pygments_lexer": "ipython3",
   "version": "3.11.5"
  }
 },
 "nbformat": 4,
 "nbformat_minor": 5
}
