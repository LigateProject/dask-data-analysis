{
 "cells": [
  {
   "cell_type": "markdown",
   "id": "b65f177a-2974-4930-8e51-1038afabb440",
   "metadata": {},
   "source": [
    "#  Dask HPC  - lite version"
   ]
  },
  {
   "cell_type": "markdown",
   "id": "e7871514-40e6-42a3-b573-7e266e958536",
   "metadata": {},
   "source": [
    "## Documentation\n",
    "**Recommended youtube:** [Matthew Rocklin](https://www.youtube.com/watch?v=FXsgmwpRExM&t=121s)\n",
    "https://www.youtube.com/watch?v=FXsgmwpRExM&t=121s\n",
    "\n",
    "dask website  [https://www.dask.org](https://www.dask.org)\n",
    "\n",
    "In particular, see this [section](https://docs.dask.org/en/stable/deploying-hpc.html) for Dask on HPC"
   ]
  },
  {
   "cell_type": "markdown",
   "id": "de9d11b6-7dc2-450c-bc0d-03092f10dac0",
   "metadata": {},
   "source": [
    "## Installation"
   ]
  },
  {
   "cell_type": "markdown",
   "id": "e8066799-fa4b-42f4-9bed-22510e847173",
   "metadata": {},
   "source": [
    "See the [dask website](https://docs.dask.org/en/stable/install.html) for installation (recommended conda or mamba)"
   ]
  },
  {
   "cell_type": "markdown",
   "id": "778a31a3-03bb-45d1-81da-c6040b82cb09",
   "metadata": {},
   "source": [
    "## Interactive dask on Leonardo or Galileo"
   ]
  },
  {
   "cell_type": "markdown",
   "id": "a0ea3974-1741-4490-8220-3d5d37bf6526",
   "metadata": {},
   "source": [
    "_On Leonardo_\n",
    "\n",
    "Login, activate Rapids+Dask environment and launch server-side jupyter\n",
    "\n",
    "```bash\n",
    "ssh login.leonardo.cineca.it  ## logon to leonardo  (e.g. WSL bash shell)\n",
    "host=$(hostname) ## make note of hostname on leonardo\n",
    "conda activate rapids-23.08   ## activate dask and rapids\n",
    "jupyter-lab --no-browser --ip $host  ## set up browser for tunnelling\n",
    "```"
   ]
  },
  {
   "cell_type": "markdown",
   "id": "215ce9cc-ce8d-48e8-aeba-ab1c370bee65",
   "metadata": {},
   "source": [
    "_On local PC_\n",
    "\n",
    "Set up tunnel for jupyter (port 8888) and dask (port 8787) (change the login node below as appropriate)\n",
    "\n",
    "```bash\n",
    "## assume login was on login01\n",
    "ssh -N -L 8787:login01.leonardo.local:8787 -L 8888:login01.leonardo.local:8888 login.leonardo.cineca.it\n",
    "```\n",
    "\n",
    "Open a browser window with the following address:\n",
    "```\n",
    "localhost:8888/lab\n",
    "```\n",
    "\n",
    "Now ready to go"
   ]
  },
  {
   "cell_type": "markdown",
   "id": "2551202c-e896-482d-ac42-2e2b7f32655f",
   "metadata": {},
   "source": [
    "--------------------------------------------------------------------------"
   ]
  },
  {
   "cell_type": "markdown",
   "id": "c28289e6-75b8-4e98-8e92-f45aeba82f68",
   "metadata": {},
   "source": [
    "### Jupyter-lab session"
   ]
  },
  {
   "cell_type": "code",
   "execution_count": 1,
   "id": "7cbd4dec-f570-4a7d-8bca-a74f0b1ea887",
   "metadata": {},
   "outputs": [],
   "source": [
    "# Import dask and related modules.\n",
    "import numpy as np\n",
    "import pandas as pd\n",
    "import dask\n",
    "import dask.dataframe as dd\n",
    "import dask.array as da\n",
    "import dask.bag as db"
   ]
  },
  {
   "cell_type": "code",
   "execution_count": null,
   "id": "cff09bf0-048d-4bc3-84b0-f5a203d43fd5",
   "metadata": {
    "tags": []
   },
   "outputs": [],
   "source": [
    "# For Leonardo and HPC systems need batch scheduler interface\n",
    "from distributed import Client\n",
    "from dask_jobqueue import SLURMCluster"
   ]
  },
  {
   "cell_type": "code",
   "execution_count": null,
   "id": "bfc0ab7b-bed1-4ceb-9414-2e32b62e0660",
   "metadata": {},
   "outputs": [],
   "source": [
    "# Next step is to start a SLURM Cluster\n",
    "# we define the characteristics of eack worker\n",
    "cluster = SLURMCluster(cores=1,\n",
    "                       processes=1,\n",
    "                       memory=\"16GB\",\n",
    "                       account=\"cin_staff\",\n",
    "                       walltime=\"00:30:00\",\n",
    "                       interface=\"ib0\",\n",
    "                       job_extra_directives=['--tasks-per-node=1']\n",
    "                       )"
   ]
  },
  {
   "cell_type": "code",
   "execution_count": null,
   "id": "ebd81f8a-1b9b-453e-865a-06b75b140781",
   "metadata": {},
   "outputs": [],
   "source": [
    "# define the client - from now on all caclulations will be done with the client\n",
    "client = Client(cluster)\n",
    "\n",
    "# check SLURM job script is valid with job_script()\n",
    "print(cluster.job_script()) \n"
   ]
  },
  {
   "cell_type": "code",
   "execution_count": null,
   "id": "53fed96a-322e-47b7-b2e8-31c60407408d",
   "metadata": {},
   "outputs": [],
   "source": [
    "# Add more workers (i.e. SLURM jobs)\n",
    "cluster.scale(2)\n"
   ]
  },
  {
   "cell_type": "code",
   "execution_count": null,
   "id": "c133007c-59ad-4d65-b023-226ad696b138",
   "metadata": {},
   "outputs": [],
   "source": [
    "## Now do calculations - example\n",
    "x=da.random.random((30000,30000),chunks=(1000,1000))\n",
    "print(x)\n",
    "x=x.persist()            # compute object, but keep it distributed among partitions\n",
    "y=(x+x.T)-x.mean(axis=0)\n",
    "y=y.persist()\n"
   ]
  },
  {
   "cell_type": "markdown",
   "id": "fba7e5e3-2a7f-4388-96d1-a0d3cd798753",
   "metadata": {},
   "source": [
    "> Remember to check the dashboard from ` http://127.0.0.1:8787/status`"
   ]
  },
  {
   "cell_type": "code",
   "execution_count": null,
   "id": "6eb5b54e-a522-4baa-bef9-463ec0f50617",
   "metadata": {},
   "outputs": [],
   "source": []
  }
 ],
 "metadata": {
  "kernelspec": {
   "display_name": "dask",
   "language": "python",
   "name": "dask"
  },
  "language_info": {
   "codemirror_mode": {
    "name": "ipython",
    "version": 3
   },
   "file_extension": ".py",
   "mimetype": "text/x-python",
   "name": "python",
   "nbconvert_exporter": "python",
   "pygments_lexer": "ipython3",
   "version": "3.11.5"
  }
 },
 "nbformat": 4,
 "nbformat_minor": 5
}
